{
 "cells": [
  {
   "cell_type": "markdown",
   "metadata": {},
   "source": [
    "# CRIME IN LOS ANGELES\n",
    "    Crime data from 2010 through September 2017"
   ]
  },
  {
   "cell_type": "code",
   "execution_count": 67,
   "metadata": {
    "collapsed": true
   },
   "outputs": [],
   "source": [
    "#TEAM MEMBERS:\n",
    "#              Sylvester Zowonu\n",
    "#              Frank Navarette\n",
    "#              Max Ru\n",
    "#Course      : CS 4661 (Data Science)\n",
    "#Instructor  : Dr. Mohammad (Mo) Pourhomayoun \n",
    "#\n",
    "#  \n",
    "# \n",
    "# File Locations : Crime Data https://www.dropbox.com/s/rhnsu6p95clsojk/Crime_Data_2010_2017.csv?dl=0\n",
    "#                  MO_Codes   https://www.dropbox.com/s/e3wuydmcgwto5ox/MO_Codes.csv?dl=0\n",
    "# Instructions: Files should be in the same directory of this file"
   ]
  },
  {
   "cell_type": "markdown",
   "metadata": {},
   "source": [
    "Import Packages"
   ]
  },
  {
   "cell_type": "code",
   "execution_count": 43,
   "metadata": {
    "collapsed": true
   },
   "outputs": [],
   "source": [
    "import pandas as pd\n",
    "import numpy as np\n",
    "import seaborn as sb\n",
    "import datetime as dt\n",
    "from pylab import rcParams\n",
    "from sklearn.model_selection import train_test_split\n",
    "from sklearn.neighbors import KNeighborsClassifier\n",
    "from sklearn.metrics import accuracy_score"
   ]
  },
  {
   "cell_type": "code",
   "execution_count": 4,
   "metadata": {
    "collapsed": true
   },
   "outputs": [],
   "source": [
    "filename = 'Crime_Data_2010_2017.csv'\n",
    "crime_data = pd.DataFrame()\n",
    "crime_data = pd.read_csv(filename)"
   ]
  },
  {
   "cell_type": "code",
   "execution_count": 7,
   "metadata": {},
   "outputs": [
    {
     "data": {
      "text/html": [
       "<div>\n",
       "<style>\n",
       "    .dataframe thead tr:only-child th {\n",
       "        text-align: right;\n",
       "    }\n",
       "\n",
       "    .dataframe thead th {\n",
       "        text-align: left;\n",
       "    }\n",
       "\n",
       "    .dataframe tbody tr th {\n",
       "        vertical-align: top;\n",
       "    }\n",
       "</style>\n",
       "<table border=\"1\" class=\"dataframe\">\n",
       "  <thead>\n",
       "    <tr style=\"text-align: right;\">\n",
       "      <th></th>\n",
       "      <th>DR Number</th>\n",
       "      <th>Date Reported</th>\n",
       "      <th>Date Occurred</th>\n",
       "      <th>Time Occurred</th>\n",
       "      <th>Area ID</th>\n",
       "      <th>Area Name</th>\n",
       "      <th>Reporting District</th>\n",
       "      <th>Crime Code</th>\n",
       "      <th>Crime Code Description</th>\n",
       "      <th>MO Codes</th>\n",
       "      <th>...</th>\n",
       "      <th>Weapon Description</th>\n",
       "      <th>Status Code</th>\n",
       "      <th>Status Description</th>\n",
       "      <th>Crime Code 1</th>\n",
       "      <th>Crime Code 2</th>\n",
       "      <th>Crime Code 3</th>\n",
       "      <th>Crime Code 4</th>\n",
       "      <th>Address</th>\n",
       "      <th>Cross Street</th>\n",
       "      <th>Location</th>\n",
       "    </tr>\n",
       "  </thead>\n",
       "  <tbody>\n",
       "    <tr>\n",
       "      <th>0</th>\n",
       "      <td>1208575</td>\n",
       "      <td>03/14/2013</td>\n",
       "      <td>03/11/2013</td>\n",
       "      <td>1800</td>\n",
       "      <td>12</td>\n",
       "      <td>77th Street</td>\n",
       "      <td>1241</td>\n",
       "      <td>626</td>\n",
       "      <td>INTIMATE PARTNER - SIMPLE ASSAULT</td>\n",
       "      <td>0416 0446 1243 2000</td>\n",
       "      <td>...</td>\n",
       "      <td>STRONG-ARM (HANDS, FIST, FEET OR BODILY FORCE)</td>\n",
       "      <td>AO</td>\n",
       "      <td>Adult Other</td>\n",
       "      <td>626.0</td>\n",
       "      <td>NaN</td>\n",
       "      <td>NaN</td>\n",
       "      <td>NaN</td>\n",
       "      <td>6300    BRYNHURST                    AV</td>\n",
       "      <td>NaN</td>\n",
       "      <td>(33.9829, -118.3338)</td>\n",
       "    </tr>\n",
       "    <tr>\n",
       "      <th>1</th>\n",
       "      <td>102005556</td>\n",
       "      <td>01/25/2010</td>\n",
       "      <td>01/22/2010</td>\n",
       "      <td>2300</td>\n",
       "      <td>20</td>\n",
       "      <td>Olympic</td>\n",
       "      <td>2071</td>\n",
       "      <td>510</td>\n",
       "      <td>VEHICLE - STOLEN</td>\n",
       "      <td>NaN</td>\n",
       "      <td>...</td>\n",
       "      <td>NaN</td>\n",
       "      <td>IC</td>\n",
       "      <td>Invest Cont</td>\n",
       "      <td>510.0</td>\n",
       "      <td>NaN</td>\n",
       "      <td>NaN</td>\n",
       "      <td>NaN</td>\n",
       "      <td>VAN NESS</td>\n",
       "      <td>15TH</td>\n",
       "      <td>(34.0454, -118.3157)</td>\n",
       "    </tr>\n",
       "    <tr>\n",
       "      <th>2</th>\n",
       "      <td>418</td>\n",
       "      <td>03/19/2013</td>\n",
       "      <td>03/18/2013</td>\n",
       "      <td>2030</td>\n",
       "      <td>18</td>\n",
       "      <td>Southeast</td>\n",
       "      <td>1823</td>\n",
       "      <td>510</td>\n",
       "      <td>VEHICLE - STOLEN</td>\n",
       "      <td>NaN</td>\n",
       "      <td>...</td>\n",
       "      <td>NaN</td>\n",
       "      <td>IC</td>\n",
       "      <td>Invest Cont</td>\n",
       "      <td>510.0</td>\n",
       "      <td>NaN</td>\n",
       "      <td>NaN</td>\n",
       "      <td>NaN</td>\n",
       "      <td>200 E  104TH                        ST</td>\n",
       "      <td>NaN</td>\n",
       "      <td>(33.942, -118.2717)</td>\n",
       "    </tr>\n",
       "    <tr>\n",
       "      <th>3</th>\n",
       "      <td>101822289</td>\n",
       "      <td>11/11/2010</td>\n",
       "      <td>11/10/2010</td>\n",
       "      <td>1800</td>\n",
       "      <td>18</td>\n",
       "      <td>Southeast</td>\n",
       "      <td>1803</td>\n",
       "      <td>510</td>\n",
       "      <td>VEHICLE - STOLEN</td>\n",
       "      <td>NaN</td>\n",
       "      <td>...</td>\n",
       "      <td>NaN</td>\n",
       "      <td>IC</td>\n",
       "      <td>Invest Cont</td>\n",
       "      <td>510.0</td>\n",
       "      <td>NaN</td>\n",
       "      <td>NaN</td>\n",
       "      <td>NaN</td>\n",
       "      <td>88TH</td>\n",
       "      <td>WALL</td>\n",
       "      <td>(33.9572, -118.2717)</td>\n",
       "    </tr>\n",
       "    <tr>\n",
       "      <th>4</th>\n",
       "      <td>42104479</td>\n",
       "      <td>01/11/2014</td>\n",
       "      <td>01/04/2014</td>\n",
       "      <td>2300</td>\n",
       "      <td>21</td>\n",
       "      <td>Topanga</td>\n",
       "      <td>2133</td>\n",
       "      <td>745</td>\n",
       "      <td>VANDALISM - MISDEAMEANOR ($399 OR UNDER)</td>\n",
       "      <td>0329</td>\n",
       "      <td>...</td>\n",
       "      <td>NaN</td>\n",
       "      <td>IC</td>\n",
       "      <td>Invest Cont</td>\n",
       "      <td>745.0</td>\n",
       "      <td>NaN</td>\n",
       "      <td>NaN</td>\n",
       "      <td>NaN</td>\n",
       "      <td>7200    CIRRUS                       WY</td>\n",
       "      <td>NaN</td>\n",
       "      <td>(34.2009, -118.6369)</td>\n",
       "    </tr>\n",
       "  </tbody>\n",
       "</table>\n",
       "<p>5 rows × 26 columns</p>\n",
       "</div>"
      ],
      "text/plain": [
       "   DR Number Date Reported Date Occurred  Time Occurred  Area ID    Area Name  \\\n",
       "0    1208575    03/14/2013    03/11/2013           1800       12  77th Street   \n",
       "1  102005556    01/25/2010    01/22/2010           2300       20      Olympic   \n",
       "2        418    03/19/2013    03/18/2013           2030       18    Southeast   \n",
       "3  101822289    11/11/2010    11/10/2010           1800       18    Southeast   \n",
       "4   42104479    01/11/2014    01/04/2014           2300       21      Topanga   \n",
       "\n",
       "   Reporting District  Crime Code                    Crime Code Description  \\\n",
       "0                1241         626         INTIMATE PARTNER - SIMPLE ASSAULT   \n",
       "1                2071         510                          VEHICLE - STOLEN   \n",
       "2                1823         510                          VEHICLE - STOLEN   \n",
       "3                1803         510                          VEHICLE - STOLEN   \n",
       "4                2133         745  VANDALISM - MISDEAMEANOR ($399 OR UNDER)   \n",
       "\n",
       "              MO Codes          ...           \\\n",
       "0  0416 0446 1243 2000          ...            \n",
       "1                  NaN          ...            \n",
       "2                  NaN          ...            \n",
       "3                  NaN          ...            \n",
       "4                 0329          ...            \n",
       "\n",
       "                               Weapon Description Status Code  \\\n",
       "0  STRONG-ARM (HANDS, FIST, FEET OR BODILY FORCE)          AO   \n",
       "1                                             NaN          IC   \n",
       "2                                             NaN          IC   \n",
       "3                                             NaN          IC   \n",
       "4                                             NaN          IC   \n",
       "\n",
       "  Status Description  Crime Code 1 Crime Code 2  Crime Code 3 Crime Code 4  \\\n",
       "0        Adult Other         626.0          NaN           NaN          NaN   \n",
       "1        Invest Cont         510.0          NaN           NaN          NaN   \n",
       "2        Invest Cont         510.0          NaN           NaN          NaN   \n",
       "3        Invest Cont         510.0          NaN           NaN          NaN   \n",
       "4        Invest Cont         745.0          NaN           NaN          NaN   \n",
       "\n",
       "                                   Address Cross Street             Location   \n",
       "0  6300    BRYNHURST                    AV          NaN  (33.9829, -118.3338)  \n",
       "1                                 VAN NESS         15TH  (34.0454, -118.3157)  \n",
       "2   200 E  104TH                        ST          NaN   (33.942, -118.2717)  \n",
       "3                                     88TH         WALL  (33.9572, -118.2717)  \n",
       "4  7200    CIRRUS                       WY          NaN  (34.2009, -118.6369)  \n",
       "\n",
       "[5 rows x 26 columns]"
      ]
     },
     "execution_count": 7,
     "metadata": {},
     "output_type": "execute_result"
    }
   ],
   "source": [
    "crime_data.head()"
   ]
  },
  {
   "cell_type": "code",
   "execution_count": 8,
   "metadata": {},
   "outputs": [
    {
     "data": {
      "text/plain": [
       "(1584316, 26)"
      ]
     },
     "execution_count": 8,
     "metadata": {},
     "output_type": "execute_result"
    }
   ],
   "source": [
    "crime_data.shape"
   ]
  },
  {
   "cell_type": "code",
   "execution_count": 29,
   "metadata": {},
   "outputs": [
    {
     "data": {
      "text/plain": [
       "['DR Number',\n",
       " 'Date Reported',\n",
       " 'Date Occurred',\n",
       " 'Time Occurred',\n",
       " 'Area ID',\n",
       " 'Area Name',\n",
       " 'Reporting District',\n",
       " 'Crime Code',\n",
       " 'Crime Code Description',\n",
       " 'MO Codes',\n",
       " 'Victim Age',\n",
       " 'Victim Sex',\n",
       " 'Victim Descent',\n",
       " 'Premise Code',\n",
       " 'Premise Description',\n",
       " 'Weapon Used Code',\n",
       " 'Weapon Description',\n",
       " 'Status Code',\n",
       " 'Status Description',\n",
       " 'Crime Code 1',\n",
       " 'Crime Code 2',\n",
       " 'Crime Code 3',\n",
       " 'Crime Code 4',\n",
       " 'Address',\n",
       " 'Cross Street',\n",
       " 'Location ']"
      ]
     },
     "execution_count": 29,
     "metadata": {},
     "output_type": "execute_result"
    }
   ],
   "source": [
    "list(crime_data)"
   ]
  },
  {
   "cell_type": "markdown",
   "metadata": {},
   "source": [
    "# Crime types"
   ]
  },
  {
   "cell_type": "code",
   "execution_count": 9,
   "metadata": {},
   "outputs": [
    {
     "data": {
      "text/plain": [
       "BATTERY - SIMPLE ASSAULT                                        145767\n",
       "VEHICLE - STOLEN                                                121329\n",
       "BURGLARY FROM VEHICLE                                           121318\n",
       "BURGLARY                                                        114751\n",
       "THEFT PLAIN - PETTY ($950 & UNDER)                              113709\n",
       "THEFT OF IDENTITY                                               100653\n",
       "INTIMATE PARTNER - SIMPLE ASSAULT                                85908\n",
       "VANDALISM - FELONY ($400 & OVER, ALL CHURCH VANDALISMS) 0114     79433\n",
       "VANDALISM - MISDEAMEANOR ($399 OR UNDER)                         71523\n",
       "ASSAULT WITH DEADLY WEAPON, AGGRAVATED ASSAULT                   67631\n",
       "THEFT FROM MOTOR VEHICLE - PETTY ($950 & UNDER)                  63995\n",
       "ROBBERY                                                          63408\n",
       "THEFT-GRAND ($950.01 & OVER)EXCPT,GUNS,FOWL,LIVESTK,PROD0036     56377\n",
       "CRIMINAL THREATS - NO WEAPON DISPLAYED                           44560\n",
       "SHOPLIFTING - PETTY THEFT ($950 & UNDER)                         35032\n",
       "THEFT FROM MOTOR VEHICLE - GRAND ($400 AND OVER)                 22588\n",
       "DOCUMENT FORGERY / STOLEN FELONY                                 18856\n",
       "OTHER MISCELLANEOUS CRIME                                        16449\n",
       "LETTERS, LEWD                                                    16371\n",
       "VIOLATION OF COURT ORDER                                         16053\n",
       "Name: Crime Code Description, dtype: int64"
      ]
     },
     "execution_count": 9,
     "metadata": {},
     "output_type": "execute_result"
    }
   ],
   "source": [
    "crime_data['Crime Code Description'].value_counts().head(20)"
   ]
  },
  {
   "cell_type": "markdown",
   "metadata": {},
   "source": [
    "# Count of Victim Gender"
   ]
  },
  {
   "cell_type": "code",
   "execution_count": 10,
   "metadata": {},
   "outputs": [
    {
     "data": {
      "text/plain": [
       "M    739581\n",
       "F    675402\n",
       "X     24080\n",
       "H        53\n",
       "-         1\n",
       "Name: Victim Sex, dtype: int64"
      ]
     },
     "execution_count": 10,
     "metadata": {},
     "output_type": "execute_result"
    }
   ],
   "source": [
    "crime_data['Victim Sex'].value_counts()"
   ]
  },
  {
   "cell_type": "markdown",
   "metadata": {},
   "source": [
    "# Count by Vicitim Race"
   ]
  },
  {
   "cell_type": "code",
   "execution_count": 50,
   "metadata": {},
   "outputs": [
    {
     "data": {
      "text/plain": [
       "Hispanic/Latin/Mexican            549515\n",
       "White                             391855\n",
       "Black                             255056\n",
       "Other                             152776\n",
       "Unknown                            41535\n",
       "Asian                              37143\n",
       "Korean                              7136\n",
       "Filipino                            1885\n",
       "American Indian/Alaskan Native       663\n",
       "Chinese                              618\n",
       "Pacific Islander                     276\n",
       "Japanese                             237\n",
       "Hawaiian                             137\n",
       "Vietnamese                            86\n",
       "Guamanian                             61\n",
       "Asian Indian                          55\n",
       "Samoan                                24\n",
       "Cambodian                             15\n",
       "Laotian                               10\n",
       "Name: Victim Descent, dtype: int64"
      ]
     },
     "execution_count": 50,
     "metadata": {},
     "output_type": "execute_result"
    }
   ],
   "source": [
    "Victims_bg = {\n",
    "    \"A\": \"Asian\",\n",
    "    \"B\": \"Black\",\n",
    "    \"C\": \"Chinese\",\n",
    "    \"D\": \"Cambodian\",\n",
    "    \"F\": \"Filipino\",\n",
    "    \"G\": \"Guamanian\",\n",
    "    \"H\": \"Hispanic/Latin/Mexican\",\n",
    "    \"I\": \"American Indian/Alaskan Native\",\n",
    "    \"J\": \"Japanese\",\n",
    "    \"K\": \"Korean\",\n",
    "    \"L\": \"Laotian\",\n",
    "    \"O\": \"Other\",\n",
    "    \"P\": \"Pacific Islander\",\n",
    "    \"S\": \"Samoan\",\n",
    "    \"U\": \"Hawaiian\",\n",
    "    \"V\": \"Vietnamese\",\n",
    "    \"W\": \"White\",\n",
    "    \"X\": \"Unknown\",\n",
    "    \"Z\": \"Asian Indian\"\n",
    "}\n",
    "crime_data[\"Victim Descent\"] = crime_data[\"Victim Descent\"].map(Victims_bg)\n",
    "crime_data['Victim Descent'].value_counts()"
   ]
  },
  {
   "cell_type": "markdown",
   "metadata": {},
   "source": [
    "# Type of Weapons used"
   ]
  },
  {
   "cell_type": "code",
   "execution_count": 19,
   "metadata": {},
   "outputs": [
    {
     "data": {
      "text/plain": [
       "STRONG-ARM (HANDS, FIST, FEET OR BODILY FORCE)    319818\n",
       "VERBAL THREAT                                      43814\n",
       "UNKNOWN WEAPON/OTHER WEAPON                        40746\n",
       "HAND GUN                                           25352\n",
       "SEMI-AUTOMATIC PISTOL                              10096\n",
       "KNIFE WITH BLADE 6INCHES OR LESS                    9335\n",
       "OTHER KNIFE                                         6946\n",
       "UNKNOWN FIREARM                                     6037\n",
       "VEHICLE                                             5348\n",
       "REVOLVER                                            4567\n",
       "BOTTLE                                              3806\n",
       "BLUNT INSTRUMENT                                    3347\n",
       "ROCK/THROWN OBJECT                                  3233\n",
       "STICK                                               3200\n",
       "CLUB/BAT                                            3155\n",
       "FOLDING KNIFE                                       3065\n",
       "SIMULATED GUN                                       2842\n",
       "KITCHEN KNIFE                                       2785\n",
       "MACE/PEPPER SPRAY                                   2652\n",
       "KNIFE WITH BLADE OVER 6 INCHES IN LENGTH            2459\n",
       "Name: Weapon Description, dtype: int64"
      ]
     },
     "execution_count": 19,
     "metadata": {},
     "output_type": "execute_result"
    }
   ],
   "source": [
    "crime_data['Weapon Description'].value_counts().head(20)"
   ]
  },
  {
   "cell_type": "markdown",
   "metadata": {},
   "source": [
    "# Crime by periods [Day, Month, Year]"
   ]
  },
  {
   "cell_type": "code",
   "execution_count": 46,
   "metadata": {},
   "outputs": [],
   "source": [
    "#convert date reported to date object\n",
    "try:\n",
    "    date_occ = [dt.datetime.strptime(d, \"%m/%d/%Y\").date() for d in crime_data[\"Date Occurred\"]]\n",
    "except:\n",
    "    print(\"Error Date Format\")\n",
    "crime_data[\"Date Occurred\"] = np.array(date_occ)\n",
    "\n",
    "day = [data.isoweekday() for data in crime_data[\"Date Occurred\"]]\n",
    "mon = [data.month for data in crime_data[\"Date Occurred\"]]\n",
    "year = [data.year for data in crime_data[\"Date Occurred\"]]\n",
    "\n",
    "crime_data[\"Day Occurred\"] = np.array(day)\n",
    "crime_data[\"Month Occurred\"] = np.array(mon)\n",
    "crime_data[\"Year Occurred\"] = np.array(year)"
   ]
  },
  {
   "cell_type": "code",
   "execution_count": 55,
   "metadata": {},
   "outputs": [
    {
     "data": {
      "text/plain": [
       "Friday       244395\n",
       "Saturday     227804\n",
       "Monday       225883\n",
       "Wednesday    224344\n",
       "Thursday     222912\n",
       "Tuesday      221931\n",
       "Sunday       217047\n",
       "Name: Day Occurred, dtype: int64"
      ]
     },
     "execution_count": 55,
     "metadata": {},
     "output_type": "execute_result"
    }
   ],
   "source": [
    "#Day of The Week\n",
    "week_day = { \n",
    "    1:\"Monday\",\n",
    "    2:\"Tuesday\",\n",
    "    3:\"Wednesday\",\n",
    "    4:\"Thursday\",\n",
    "    5:\"Friday\",\n",
    "    6:\"Saturday\",\n",
    "    7:\"Sunday\"\n",
    "}\n",
    "crime_data['Day Occurred'] = crime_data['Day Occurred'].map(week_day)\n",
    "crime_data['Day Occurred'].value_counts()"
   ]
  },
  {
   "cell_type": "code",
   "execution_count": 56,
   "metadata": {},
   "outputs": [
    {
     "data": {
      "text/plain": [
       "July         143091\n",
       "August       142648\n",
       "January      142503\n",
       "May          141057\n",
       "June         138645\n",
       "March        138292\n",
       "April        135144\n",
       "October      123646\n",
       "February     123471\n",
       "September    122307\n",
       "December     119256\n",
       "November     114256\n",
       "Name: Month Occurred, dtype: int64"
      ]
     },
     "execution_count": 56,
     "metadata": {},
     "output_type": "execute_result"
    }
   ],
   "source": [
    "#Month of The Year\n",
    "month_year = { \n",
    "    1:\"January\",\n",
    "    2:\"February\",\n",
    "    3:\"March\",\n",
    "    4:\"April\",\n",
    "    5:\"May\",\n",
    "    6:\"June\",\n",
    "    7:\"July\",\n",
    "    8:\"August\",\n",
    "    9:\"September\",\n",
    "    10:\"October\",\n",
    "    11:\"November\",\n",
    "    12:\"December\"\n",
    "}\n",
    "crime_data['Month Occurred'] = crime_data['Month Occurred'].map(month_year)\n",
    "crime_data['Month Occurred'].value_counts()"
   ]
  },
  {
   "cell_type": "code",
   "execution_count": 49,
   "metadata": {},
   "outputs": [
    {
     "data": {
      "text/plain": [
       "2016    223038\n",
       "2015    213910\n",
       "2010    208576\n",
       "2012    200797\n",
       "2011    200176\n",
       "2014    194469\n",
       "2013    191764\n",
       "2017    151586\n",
       "Name: Year Occurred, dtype: int64"
      ]
     },
     "execution_count": 49,
     "metadata": {},
     "output_type": "execute_result"
    }
   ],
   "source": [
    "#Crime by the Years\n",
    "crime_data['Year Occurred'].value_counts()"
   ]
  },
  {
   "cell_type": "code",
   "execution_count": 52,
   "metadata": {},
   "outputs": [
    {
     "data": {
      "text/plain": [
       "mean    35.934195\n",
       "std     16.811559\n",
       "min     10.000000\n",
       "25%     23.000000\n",
       "50%     34.000000\n",
       "75%     48.000000\n",
       "max     99.000000\n",
       "Name: Victim Age, dtype: float64"
      ]
     },
     "execution_count": 52,
     "metadata": {},
     "output_type": "execute_result"
    }
   ],
   "source": [
    "crime_data['Victim Age'].describe()[1:]"
   ]
  },
  {
   "cell_type": "code",
   "execution_count": 54,
   "metadata": {},
   "outputs": [
    {
     "data": {
      "text/plain": [
       "STREET                                          352160\n",
       "SINGLE FAMILY DWELLING                          328198\n",
       "MULTI-UNIT DWELLING (APARTMENT, DUPLEX, ETC)    204980\n",
       "PARKING LOT                                     112576\n",
       "SIDEWALK                                         79247\n",
       "OTHER BUSINESS                                   71097\n",
       "VEHICLE, PASSENGER/TRUCK                         60450\n",
       "DRIVEWAY                                         32473\n",
       "GARAGE/CARPORT                                   28407\n",
       "DEPARTMENT STORE                                 22476\n",
       "RESTAURANT/FAST FOOD                             20990\n",
       "MARKET                                           16492\n",
       "OTHER STORE                                      12653\n",
       "YARD (RESIDENTIAL/BUSINESS)                      11113\n",
       "PARKING UNDERGROUND/BUILDING                     10927\n",
       "PARK/PLAYGROUND                                  10856\n",
       "OTHER PREMISE                                    10674\n",
       "HIGH SCHOOL                                      10389\n",
       "ALLEY                                             9874\n",
       "DRUG STORE                                        8173\n",
       "Name: Premise Description, dtype: int64"
      ]
     },
     "execution_count": 54,
     "metadata": {},
     "output_type": "execute_result"
    }
   ],
   "source": [
    "crime_data['Premise Description'].value_counts().head(20)"
   ]
  },
  {
   "cell_type": "code",
   "execution_count": 57,
   "metadata": {},
   "outputs": [
    {
     "data": {
      "text/plain": [
       "624    145767\n",
       "510    121329\n",
       "330    121318\n",
       "310    114751\n",
       "440    113709\n",
       "354    100653\n",
       "626     85908\n",
       "740     79433\n",
       "745     71523\n",
       "230     67631\n",
       "420     63995\n",
       "210     63408\n",
       "341     56377\n",
       "930     44560\n",
       "442     35032\n",
       "331     22588\n",
       "649     18856\n",
       "946     16449\n",
       "956     16371\n",
       "900     16053\n",
       "Name: Crime Code, dtype: int64"
      ]
     },
     "execution_count": 57,
     "metadata": {},
     "output_type": "execute_result"
    }
   ],
   "source": [
    "crime_data['Crime Code'].value_counts().head(20)"
   ]
  },
  {
   "cell_type": "code",
   "execution_count": null,
   "metadata": {
    "collapsed": true
   },
   "outputs": [],
   "source": []
  },
  {
   "cell_type": "markdown",
   "metadata": {},
   "source": [
    "Predicting Type of Crime"
   ]
  }
 ],
 "metadata": {
  "kernelspec": {
   "display_name": "Python 3",
   "language": "python",
   "name": "python3"
  },
  "language_info": {
   "codemirror_mode": {
    "name": "ipython",
    "version": 3
   },
   "file_extension": ".py",
   "mimetype": "text/x-python",
   "name": "python",
   "nbconvert_exporter": "python",
   "pygments_lexer": "ipython3",
   "version": "3.6.1"
  }
 },
 "nbformat": 4,
 "nbformat_minor": 2
}
