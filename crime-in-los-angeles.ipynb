{
 "cells": [
  {
   "cell_type": "markdown",
   "metadata": {},
   "source": [
    "# CRIME IN LOS ANGELES\n",
    "    Crime data from 2010 through September 2017"
   ]
  },
  {
   "cell_type": "code",
   "execution_count": 67,
   "metadata": {
    "collapsed": true
   },
   "outputs": [],
   "source": [
    "#TEAM MEMBERS:\n",
    "#              Sylvester Zowonu\n",
    "#              Frank Navarette\n",
    "#              Max Ru\n",
    "#Course      : CS 4661 (Data Science)\n",
    "#Instructor  : Dr. Mohammad (Mo) Pourhomayoun \n",
    "#\n",
    "#  \n",
    "# \n",
    "# File Locations : Crime Data https://www.dropbox.com/s/rhnsu6p95clsojk/Crime_Data_2010_2017.csv?dl=0\n",
    "#                  MO_Codes   https://www.dropbox.com/s/e3wuydmcgwto5ox/MO_Codes.csv?dl=0\n",
    "# Instructions: Files should be in the same directory of this file"
   ]
  },
  {
   "cell_type": "markdown",
   "metadata": {},
   "source": [
    "Import Packages"
   ]
  },
  {
   "cell_type": "code",
   "execution_count": 1,
   "metadata": {
    "collapsed": true
   },
   "outputs": [],
   "source": [
    "import pandas as pd\n",
    "import numpy as np\n",
    "import seaborn as sb\n",
    "import datetime as dt\n",
    "from pylab import rcParams\n",
    "from sklearn.model_selection import train_test_split\n",
    "from sklearn.neighbors import KNeighborsClassifier\n",
    "from sklearn.metrics import accuracy_score"
   ]
  },
  {
   "cell_type": "code",
   "execution_count": 70,
   "metadata": {
    "collapsed": true
   },
   "outputs": [],
   "source": [
    "filename = 'Crime_Data_2010_2017.csv'\n",
    "crime_data = pd.DataFrame()\n",
    "crime_data = pd.read_csv(filename,nrows=50000)"
   ]
  },
  {
   "cell_type": "code",
   "execution_count": 71,
   "metadata": {},
   "outputs": [
    {
     "data": {
      "text/html": [
       "<div>\n",
       "<style>\n",
       "    .dataframe thead tr:only-child th {\n",
       "        text-align: right;\n",
       "    }\n",
       "\n",
       "    .dataframe thead th {\n",
       "        text-align: left;\n",
       "    }\n",
       "\n",
       "    .dataframe tbody tr th {\n",
       "        vertical-align: top;\n",
       "    }\n",
       "</style>\n",
       "<table border=\"1\" class=\"dataframe\">\n",
       "  <thead>\n",
       "    <tr style=\"text-align: right;\">\n",
       "      <th></th>\n",
       "      <th>DR Number</th>\n",
       "      <th>Date Reported</th>\n",
       "      <th>Date Occurred</th>\n",
       "      <th>Time Occurred</th>\n",
       "      <th>Area ID</th>\n",
       "      <th>Area Name</th>\n",
       "      <th>Reporting District</th>\n",
       "      <th>Crime Code</th>\n",
       "      <th>Crime Code Description</th>\n",
       "      <th>MO Codes</th>\n",
       "      <th>...</th>\n",
       "      <th>Weapon Description</th>\n",
       "      <th>Status Code</th>\n",
       "      <th>Status Description</th>\n",
       "      <th>Crime Code 1</th>\n",
       "      <th>Crime Code 2</th>\n",
       "      <th>Crime Code 3</th>\n",
       "      <th>Crime Code 4</th>\n",
       "      <th>Address</th>\n",
       "      <th>Cross Street</th>\n",
       "      <th>Location</th>\n",
       "    </tr>\n",
       "  </thead>\n",
       "  <tbody>\n",
       "    <tr>\n",
       "      <th>0</th>\n",
       "      <td>1208575</td>\n",
       "      <td>03/14/2013</td>\n",
       "      <td>03/11/2013</td>\n",
       "      <td>1800</td>\n",
       "      <td>12</td>\n",
       "      <td>77th Street</td>\n",
       "      <td>1241</td>\n",
       "      <td>626</td>\n",
       "      <td>INTIMATE PARTNER - SIMPLE ASSAULT</td>\n",
       "      <td>0416 0446 1243 2000</td>\n",
       "      <td>...</td>\n",
       "      <td>STRONG-ARM (HANDS, FIST, FEET OR BODILY FORCE)</td>\n",
       "      <td>AO</td>\n",
       "      <td>Adult Other</td>\n",
       "      <td>626.0</td>\n",
       "      <td>NaN</td>\n",
       "      <td>NaN</td>\n",
       "      <td>NaN</td>\n",
       "      <td>6300    BRYNHURST                    AV</td>\n",
       "      <td>NaN</td>\n",
       "      <td>(33.9829, -118.3338)</td>\n",
       "    </tr>\n",
       "    <tr>\n",
       "      <th>1</th>\n",
       "      <td>102005556</td>\n",
       "      <td>01/25/2010</td>\n",
       "      <td>01/22/2010</td>\n",
       "      <td>2300</td>\n",
       "      <td>20</td>\n",
       "      <td>Olympic</td>\n",
       "      <td>2071</td>\n",
       "      <td>510</td>\n",
       "      <td>VEHICLE - STOLEN</td>\n",
       "      <td>NaN</td>\n",
       "      <td>...</td>\n",
       "      <td>NaN</td>\n",
       "      <td>IC</td>\n",
       "      <td>Invest Cont</td>\n",
       "      <td>510.0</td>\n",
       "      <td>NaN</td>\n",
       "      <td>NaN</td>\n",
       "      <td>NaN</td>\n",
       "      <td>VAN NESS</td>\n",
       "      <td>15TH</td>\n",
       "      <td>(34.0454, -118.3157)</td>\n",
       "    </tr>\n",
       "    <tr>\n",
       "      <th>2</th>\n",
       "      <td>418</td>\n",
       "      <td>03/19/2013</td>\n",
       "      <td>03/18/2013</td>\n",
       "      <td>2030</td>\n",
       "      <td>18</td>\n",
       "      <td>Southeast</td>\n",
       "      <td>1823</td>\n",
       "      <td>510</td>\n",
       "      <td>VEHICLE - STOLEN</td>\n",
       "      <td>NaN</td>\n",
       "      <td>...</td>\n",
       "      <td>NaN</td>\n",
       "      <td>IC</td>\n",
       "      <td>Invest Cont</td>\n",
       "      <td>510.0</td>\n",
       "      <td>NaN</td>\n",
       "      <td>NaN</td>\n",
       "      <td>NaN</td>\n",
       "      <td>200 E  104TH                        ST</td>\n",
       "      <td>NaN</td>\n",
       "      <td>(33.942, -118.2717)</td>\n",
       "    </tr>\n",
       "    <tr>\n",
       "      <th>3</th>\n",
       "      <td>101822289</td>\n",
       "      <td>11/11/2010</td>\n",
       "      <td>11/10/2010</td>\n",
       "      <td>1800</td>\n",
       "      <td>18</td>\n",
       "      <td>Southeast</td>\n",
       "      <td>1803</td>\n",
       "      <td>510</td>\n",
       "      <td>VEHICLE - STOLEN</td>\n",
       "      <td>NaN</td>\n",
       "      <td>...</td>\n",
       "      <td>NaN</td>\n",
       "      <td>IC</td>\n",
       "      <td>Invest Cont</td>\n",
       "      <td>510.0</td>\n",
       "      <td>NaN</td>\n",
       "      <td>NaN</td>\n",
       "      <td>NaN</td>\n",
       "      <td>88TH</td>\n",
       "      <td>WALL</td>\n",
       "      <td>(33.9572, -118.2717)</td>\n",
       "    </tr>\n",
       "    <tr>\n",
       "      <th>4</th>\n",
       "      <td>42104479</td>\n",
       "      <td>01/11/2014</td>\n",
       "      <td>01/04/2014</td>\n",
       "      <td>2300</td>\n",
       "      <td>21</td>\n",
       "      <td>Topanga</td>\n",
       "      <td>2133</td>\n",
       "      <td>745</td>\n",
       "      <td>VANDALISM - MISDEAMEANOR ($399 OR UNDER)</td>\n",
       "      <td>0329</td>\n",
       "      <td>...</td>\n",
       "      <td>NaN</td>\n",
       "      <td>IC</td>\n",
       "      <td>Invest Cont</td>\n",
       "      <td>745.0</td>\n",
       "      <td>NaN</td>\n",
       "      <td>NaN</td>\n",
       "      <td>NaN</td>\n",
       "      <td>7200    CIRRUS                       WY</td>\n",
       "      <td>NaN</td>\n",
       "      <td>(34.2009, -118.6369)</td>\n",
       "    </tr>\n",
       "  </tbody>\n",
       "</table>\n",
       "<p>5 rows × 26 columns</p>\n",
       "</div>"
      ],
      "text/plain": [
       "   DR Number Date Reported Date Occurred  Time Occurred  Area ID    Area Name  \\\n",
       "0    1208575    03/14/2013    03/11/2013           1800       12  77th Street   \n",
       "1  102005556    01/25/2010    01/22/2010           2300       20      Olympic   \n",
       "2        418    03/19/2013    03/18/2013           2030       18    Southeast   \n",
       "3  101822289    11/11/2010    11/10/2010           1800       18    Southeast   \n",
       "4   42104479    01/11/2014    01/04/2014           2300       21      Topanga   \n",
       "\n",
       "   Reporting District  Crime Code                    Crime Code Description  \\\n",
       "0                1241         626         INTIMATE PARTNER - SIMPLE ASSAULT   \n",
       "1                2071         510                          VEHICLE - STOLEN   \n",
       "2                1823         510                          VEHICLE - STOLEN   \n",
       "3                1803         510                          VEHICLE - STOLEN   \n",
       "4                2133         745  VANDALISM - MISDEAMEANOR ($399 OR UNDER)   \n",
       "\n",
       "              MO Codes          ...           \\\n",
       "0  0416 0446 1243 2000          ...            \n",
       "1                  NaN          ...            \n",
       "2                  NaN          ...            \n",
       "3                  NaN          ...            \n",
       "4                 0329          ...            \n",
       "\n",
       "                               Weapon Description Status Code  \\\n",
       "0  STRONG-ARM (HANDS, FIST, FEET OR BODILY FORCE)          AO   \n",
       "1                                             NaN          IC   \n",
       "2                                             NaN          IC   \n",
       "3                                             NaN          IC   \n",
       "4                                             NaN          IC   \n",
       "\n",
       "  Status Description  Crime Code 1 Crime Code 2  Crime Code 3 Crime Code 4  \\\n",
       "0        Adult Other         626.0          NaN           NaN          NaN   \n",
       "1        Invest Cont         510.0          NaN           NaN          NaN   \n",
       "2        Invest Cont         510.0          NaN           NaN          NaN   \n",
       "3        Invest Cont         510.0          NaN           NaN          NaN   \n",
       "4        Invest Cont         745.0          NaN           NaN          NaN   \n",
       "\n",
       "                                   Address Cross Street             Location   \n",
       "0  6300    BRYNHURST                    AV          NaN  (33.9829, -118.3338)  \n",
       "1                                 VAN NESS         15TH  (34.0454, -118.3157)  \n",
       "2   200 E  104TH                        ST          NaN   (33.942, -118.2717)  \n",
       "3                                     88TH         WALL  (33.9572, -118.2717)  \n",
       "4  7200    CIRRUS                       WY          NaN  (34.2009, -118.6369)  \n",
       "\n",
       "[5 rows x 26 columns]"
      ]
     },
     "execution_count": 71,
     "metadata": {},
     "output_type": "execute_result"
    }
   ],
   "source": [
    "crime_data.head()"
   ]
  },
  {
   "cell_type": "code",
   "execution_count": 72,
   "metadata": {},
   "outputs": [
    {
     "data": {
      "text/plain": [
       "(50000, 26)"
      ]
     },
     "execution_count": 72,
     "metadata": {},
     "output_type": "execute_result"
    }
   ],
   "source": [
    "crime_data.shape"
   ]
  },
  {
   "cell_type": "code",
   "execution_count": 73,
   "metadata": {},
   "outputs": [
    {
     "data": {
      "text/plain": [
       "['DR Number',\n",
       " 'Date Reported',\n",
       " 'Date Occurred',\n",
       " 'Time Occurred',\n",
       " 'Area ID',\n",
       " 'Area Name',\n",
       " 'Reporting District',\n",
       " 'Crime Code',\n",
       " 'Crime Code Description',\n",
       " 'MO Codes',\n",
       " 'Victim Age',\n",
       " 'Victim Sex',\n",
       " 'Victim Descent',\n",
       " 'Premise Code',\n",
       " 'Premise Description',\n",
       " 'Weapon Used Code',\n",
       " 'Weapon Description',\n",
       " 'Status Code',\n",
       " 'Status Description',\n",
       " 'Crime Code 1',\n",
       " 'Crime Code 2',\n",
       " 'Crime Code 3',\n",
       " 'Crime Code 4',\n",
       " 'Address',\n",
       " 'Cross Street',\n",
       " 'Location ']"
      ]
     },
     "execution_count": 73,
     "metadata": {},
     "output_type": "execute_result"
    }
   ],
   "source": [
    "list(crime_data)"
   ]
  },
  {
   "cell_type": "markdown",
   "metadata": {},
   "source": [
    "# Crime types"
   ]
  },
  {
   "cell_type": "code",
   "execution_count": 33,
   "metadata": {},
   "outputs": [
    {
     "data": {
      "text/plain": [
       "BATTERY - SIMPLE ASSAULT                                        5845\n",
       "THEFT PLAIN - PETTY ($950 & UNDER)                              5091\n",
       "VEHICLE - STOLEN                                                4627\n",
       "BURGLARY FROM VEHICLE                                           3402\n",
       "INTIMATE PARTNER - SIMPLE ASSAULT                               2804\n",
       "BURGLARY                                                        2747\n",
       "VANDALISM - MISDEAMEANOR ($399 OR UNDER)                        2509\n",
       "THEFT OF IDENTITY                                               2300\n",
       "VANDALISM - FELONY ($400 & OVER, ALL CHURCH VANDALISMS) 0114    2283\n",
       "ROBBERY                                                         2223\n",
       "ASSAULT WITH DEADLY WEAPON, AGGRAVATED ASSAULT                  2214\n",
       "THEFT FROM MOTOR VEHICLE - PETTY ($950 & UNDER)                 1938\n",
       "CRIMINAL THREATS - NO WEAPON DISPLAYED                          1613\n",
       "THEFT-GRAND ($950.01 & OVER)EXCPT,GUNS,FOWL,LIVESTK,PROD0036    1567\n",
       "VIOLATION OF COURT ORDER                                         629\n",
       "OTHER MISCELLANEOUS CRIME                                        595\n",
       "DOCUMENT FORGERY / STOLEN FELONY                                 551\n",
       "THEFT, PERSON                                                    524\n",
       "THEFT FROM MOTOR VEHICLE - GRAND ($400 AND OVER)                 485\n",
       "TRESPASSING                                                      460\n",
       "Name: Crime Code Description, dtype: int64"
      ]
     },
     "execution_count": 33,
     "metadata": {},
     "output_type": "execute_result"
    }
   ],
   "source": [
    "crime_data['Crime Code Description'].value_counts().head(20)"
   ]
  },
  {
   "cell_type": "markdown",
   "metadata": {},
   "source": [
    "# Count of Victim Gender"
   ]
  },
  {
   "cell_type": "code",
   "execution_count": 34,
   "metadata": {},
   "outputs": [
    {
     "data": {
      "text/plain": [
       "M    23853\n",
       "F    20367\n",
       "X      472\n",
       "H        4\n",
       "Name: Victim Sex, dtype: int64"
      ]
     },
     "execution_count": 34,
     "metadata": {},
     "output_type": "execute_result"
    }
   ],
   "source": [
    "crime_data['Victim Sex'].value_counts()"
   ]
  },
  {
   "cell_type": "markdown",
   "metadata": {},
   "source": [
    "# Count by Vicitim Race"
   ]
  },
  {
   "cell_type": "code",
   "execution_count": 35,
   "metadata": {},
   "outputs": [
    {
     "data": {
      "text/plain": [
       "Hispanic/Latin/Mexican            19097\n",
       "Black                              9705\n",
       "White                              9326\n",
       "Other                              4203\n",
       "Asian                              1121\n",
       "Unknown                             955\n",
       "Korean                              100\n",
       "Filipino                             60\n",
       "Chinese                              48\n",
       "American Indian/Alaskan Native       46\n",
       "Japanese                             11\n",
       "Hawaiian                              7\n",
       "Pacific Islander                      7\n",
       "Asian Indian                          4\n",
       "Vietnamese                            3\n",
       "Guamanian                             2\n",
       "Laotian                               1\n",
       "Name: Victim Descent, dtype: int64"
      ]
     },
     "execution_count": 35,
     "metadata": {},
     "output_type": "execute_result"
    }
   ],
   "source": [
    "Victims_bg = {\n",
    "    \"A\": \"Asian\",\n",
    "    \"B\": \"Black\",\n",
    "    \"C\": \"Chinese\",\n",
    "    \"D\": \"Cambodian\",\n",
    "    \"F\": \"Filipino\",\n",
    "    \"G\": \"Guamanian\",\n",
    "    \"H\": \"Hispanic/Latin/Mexican\",\n",
    "    \"I\": \"American Indian/Alaskan Native\",\n",
    "    \"J\": \"Japanese\",\n",
    "    \"K\": \"Korean\",\n",
    "    \"L\": \"Laotian\",\n",
    "    \"O\": \"Other\",\n",
    "    \"P\": \"Pacific Islander\",\n",
    "    \"S\": \"Samoan\",\n",
    "    \"U\": \"Hawaiian\",\n",
    "    \"V\": \"Vietnamese\",\n",
    "    \"W\": \"White\",\n",
    "    \"X\": \"Unknown\",\n",
    "    \"Z\": \"Asian Indian\"\n",
    "}\n",
    "crime_data[\"Victim Descent\"] = crime_data[\"Victim Descent\"].map(Victims_bg)\n",
    "crime_data['Victim Descent'].value_counts()"
   ]
  },
  {
   "cell_type": "markdown",
   "metadata": {},
   "source": [
    "# Type of Weapons used"
   ]
  },
  {
   "cell_type": "code",
   "execution_count": 36,
   "metadata": {},
   "outputs": [
    {
     "data": {
      "text/plain": [
       "STRONG-ARM (HANDS, FIST, FEET OR BODILY FORCE)    11319\n",
       "VERBAL THREAT                                      1609\n",
       "UNKNOWN WEAPON/OTHER WEAPON                         940\n",
       "HAND GUN                                            704\n",
       "KNIFE WITH BLADE 6INCHES OR LESS                    381\n",
       "SEMI-AUTOMATIC PISTOL                               317\n",
       "OTHER KNIFE                                         290\n",
       "BOTTLE                                              189\n",
       "UNKNOWN FIREARM                                     183\n",
       "REVOLVER                                            140\n",
       "STICK                                               129\n",
       "VEHICLE                                             127\n",
       "BLUNT INSTRUMENT                                    112\n",
       "FOLDING KNIFE                                       109\n",
       "KNIFE WITH BLADE OVER 6 INCHES IN LENGTH            108\n",
       "SIMULATED GUN                                       101\n",
       "KITCHEN KNIFE                                        99\n",
       "ROCK/THROWN OBJECT                                   95\n",
       "CLUB/BAT                                             90\n",
       "MACE/PEPPER SPRAY                                    89\n",
       "Name: Weapon Description, dtype: int64"
      ]
     },
     "execution_count": 36,
     "metadata": {},
     "output_type": "execute_result"
    }
   ],
   "source": [
    "crime_data['Weapon Description'].value_counts().head(20)"
   ]
  },
  {
   "cell_type": "markdown",
   "metadata": {},
   "source": [
    "# Crime by periods [Day, Month, Year]"
   ]
  },
  {
   "cell_type": "code",
   "execution_count": 74,
   "metadata": {
    "collapsed": true
   },
   "outputs": [],
   "source": [
    "#convert date reported to date object\n",
    "try:\n",
    "    date_occ = [dt.datetime.strptime(d, \"%m/%d/%Y\").date() for d in crime_data[\"Date Occurred\"]]\n",
    "except:\n",
    "    print(\"Error Date Format\")\n",
    "crime_data[\"Date Occurred\"] = np.array(date_occ)\n",
    "\n",
    "day = [data.isoweekday() for data in crime_data[\"Date Occurred\"]]\n",
    "mon = [data.month for data in crime_data[\"Date Occurred\"]]\n",
    "year = [data.year for data in crime_data[\"Date Occurred\"]]\n",
    "\n",
    "crime_data[\"Day Occurred\"] = np.array(day)\n",
    "crime_data[\"Month Occurred\"] = np.array(mon)\n",
    "crime_data[\"Year Occurred\"] = np.array(year)"
   ]
  },
  {
   "cell_type": "code",
   "execution_count": 38,
   "metadata": {},
   "outputs": [
    {
     "data": {
      "text/plain": [
       "Friday       7842\n",
       "Saturday     7345\n",
       "Sunday       7052\n",
       "Thursday     6991\n",
       "Monday       6986\n",
       "Tuesday      6978\n",
       "Wednesday    6806\n",
       "Name: Day Occurred, dtype: int64"
      ]
     },
     "execution_count": 38,
     "metadata": {},
     "output_type": "execute_result"
    }
   ],
   "source": [
    "#Day of The Week\n",
    "week_day = { \n",
    "    1:\"Monday\",\n",
    "    2:\"Tuesday\",\n",
    "    3:\"Wednesday\",\n",
    "    4:\"Thursday\",\n",
    "    5:\"Friday\",\n",
    "    6:\"Saturday\",\n",
    "    7:\"Sunday\"\n",
    "}\n",
    "crime_data['Day Occurred'] = crime_data['Day Occurred'].map(week_day)\n",
    "crime_data['Day Occurred'].value_counts()"
   ]
  },
  {
   "cell_type": "code",
   "execution_count": 39,
   "metadata": {},
   "outputs": [
    {
     "data": {
      "text/plain": [
       "August       4678\n",
       "May          4571\n",
       "July         4509\n",
       "March        4488\n",
       "September    4384\n",
       "June         4373\n",
       "January      4347\n",
       "April        4263\n",
       "October      3935\n",
       "February     3800\n",
       "November     3456\n",
       "December     3196\n",
       "Name: Month Occurred, dtype: int64"
      ]
     },
     "execution_count": 39,
     "metadata": {},
     "output_type": "execute_result"
    }
   ],
   "source": [
    "#Month of The Year\n",
    "month_year = { \n",
    "    1:\"January\",\n",
    "    2:\"February\",\n",
    "    3:\"March\",\n",
    "    4:\"April\",\n",
    "    5:\"May\",\n",
    "    6:\"June\",\n",
    "    7:\"July\",\n",
    "    8:\"August\",\n",
    "    9:\"September\",\n",
    "    10:\"October\",\n",
    "    11:\"November\",\n",
    "    12:\"December\"\n",
    "}\n",
    "crime_data['Month Occurred'] = crime_data['Month Occurred'].map(month_year)\n",
    "crime_data['Month Occurred'].value_counts()"
   ]
  },
  {
   "cell_type": "code",
   "execution_count": 40,
   "metadata": {},
   "outputs": [
    {
     "data": {
      "text/plain": [
       "unique        12\n",
       "top       August\n",
       "freq        4678\n",
       "Name: Month Occurred, dtype: object"
      ]
     },
     "execution_count": 40,
     "metadata": {},
     "output_type": "execute_result"
    }
   ],
   "source": [
    "crime_data['Month Occurred'].describe()[1:]"
   ]
  },
  {
   "cell_type": "code",
   "execution_count": 13,
   "metadata": {},
   "outputs": [
    {
     "data": {
      "text/plain": [
       "2013    48748\n",
       "2010     1173\n",
       "2014       79\n",
       "Name: Year Occurred, dtype: int64"
      ]
     },
     "execution_count": 13,
     "metadata": {},
     "output_type": "execute_result"
    }
   ],
   "source": [
    "#Crime by the Years\n",
    "crime_data['Year Occurred'].value_counts()"
   ]
  },
  {
   "cell_type": "code",
   "execution_count": 14,
   "metadata": {},
   "outputs": [
    {
     "data": {
      "text/plain": [
       "mean    34.609026\n",
       "std     16.530916\n",
       "min     10.000000\n",
       "25%     22.000000\n",
       "50%     32.000000\n",
       "75%     46.000000\n",
       "max     99.000000\n",
       "Name: Victim Age, dtype: float64"
      ]
     },
     "execution_count": 14,
     "metadata": {},
     "output_type": "execute_result"
    }
   ],
   "source": [
    "crime_data['Victim Age'].describe()[1:]"
   ]
  },
  {
   "cell_type": "code",
   "execution_count": 15,
   "metadata": {},
   "outputs": [
    {
     "data": {
      "text/plain": [
       "STREET                                          12219\n",
       "SINGLE FAMILY DWELLING                           7607\n",
       "MULTI-UNIT DWELLING (APARTMENT, DUPLEX, ETC)     7462\n",
       "SIDEWALK                                         3891\n",
       "PARKING LOT                                      3228\n",
       "OTHER BUSINESS                                   2574\n",
       "VEHICLE, PASSENGER/TRUCK                         1673\n",
       "GARAGE/CARPORT                                    742\n",
       "DRIVEWAY                                          646\n",
       "RESTAURANT/FAST FOOD                              636\n",
       "DEPARTMENT STORE                                  531\n",
       "HIGH SCHOOL                                       481\n",
       "HOTEL                                             436\n",
       "PARK/PLAYGROUND                                   428\n",
       "OTHER STORE                                       413\n",
       "MARKET                                            402\n",
       "ALLEY                                             393\n",
       "OTHER PREMISE                                     347\n",
       "NIGHT CLUB (OPEN EVENINGS ONLY)                   342\n",
       "COLLEGE/JUNIOR COLLEGE/UNIVERSITY                 332\n",
       "Name: Premise Description, dtype: int64"
      ]
     },
     "execution_count": 15,
     "metadata": {},
     "output_type": "execute_result"
    }
   ],
   "source": [
    "crime_data['Premise Description'].value_counts().head(20)"
   ]
  },
  {
   "cell_type": "code",
   "execution_count": 16,
   "metadata": {},
   "outputs": [
    {
     "data": {
      "text/plain": [
       "624    5845\n",
       "440    5091\n",
       "510    4627\n",
       "330    3402\n",
       "626    2804\n",
       "310    2747\n",
       "745    2509\n",
       "354    2300\n",
       "740    2283\n",
       "210    2223\n",
       "230    2214\n",
       "420    1938\n",
       "930    1613\n",
       "341    1567\n",
       "900     629\n",
       "946     595\n",
       "649     551\n",
       "350     524\n",
       "331     485\n",
       "888     460\n",
       "Name: Crime Code, dtype: int64"
      ]
     },
     "execution_count": 16,
     "metadata": {},
     "output_type": "execute_result"
    }
   ],
   "source": [
    "crime_data['Crime Code'].value_counts().head(20)"
   ]
  },
  {
   "cell_type": "code",
   "execution_count": 23,
   "metadata": {},
   "outputs": [
    {
     "data": {
      "text/plain": [
       "Invest Cont     36919\n",
       "Adult Other      6199\n",
       "Adult Arrest     6192\n",
       "Juv Arrest        568\n",
       "Juv Other         121\n",
       "UNK                 1\n",
       "Name: Status Description, dtype: int64"
      ]
     },
     "execution_count": 23,
     "metadata": {},
     "output_type": "execute_result"
    }
   ],
   "source": [
    "crime_data['Status Description'].value_counts().head(20)"
   ]
  },
  {
   "cell_type": "code",
   "execution_count": 29,
   "metadata": {},
   "outputs": [
    {
     "data": {
      "text/plain": [
       "IC    36919\n",
       "AO     6199\n",
       "AA     6192\n",
       "JA      568\n",
       "JO      121\n",
       "Name: Status Code, dtype: int64"
      ]
     },
     "execution_count": 29,
     "metadata": {},
     "output_type": "execute_result"
    }
   ],
   "source": [
    "crime_data['Status Code'].value_counts().head(20)"
   ]
  },
  {
   "cell_type": "markdown",
   "metadata": {
    "collapsed": true
   },
   "source": [
    "OneHot Encoding function"
   ]
  },
  {
   "cell_type": "code",
   "execution_count": 52,
   "metadata": {
    "collapsed": true
   },
   "outputs": [],
   "source": [
    "def one_hot(df, cols):\n",
    "    \"\"\"\n",
    "    @param df pandas DataFrame\n",
    "    @param cols a list of columns to encode \n",
    "    @return a DataFrame with one-hot encoding\n",
    "    \"\"\"\n",
    "    for each in cols:\n",
    "        dummies = pd.get_dummies(df[each], prefix=each, drop_first=False)\n",
    "        df = pd.concat([df, dummies], axis=1)\n",
    "    return df"
   ]
  },
  {
   "cell_type": "code",
   "execution_count": 75,
   "metadata": {},
   "outputs": [
    {
     "data": {
      "text/plain": [
       "Southwest      12223\n",
       "Harbor          8177\n",
       "Rampart         7888\n",
       "Central         7373\n",
       "Hollywood       6575\n",
       "Hollenbeck      6462\n",
       "Newton           215\n",
       "Pacific          190\n",
       "Mission          131\n",
       "Olympic          124\n",
       "77th Street      117\n",
       "Northeast         99\n",
       "Topanga           86\n",
       "Devonshire        77\n",
       "Southeast         76\n",
       "Foothill          65\n",
       "N Hollywood       61\n",
       "West Valley       57\n",
       "Van Nuys           3\n",
       "West LA            1\n",
       "Name: Area Name, dtype: int64"
      ]
     },
     "execution_count": 75,
     "metadata": {},
     "output_type": "execute_result"
    }
   ],
   "source": [
    "crime_data['Area Name'].value_counts().head(20)\n",
    "#list(crime_data)"
   ]
  },
  {
   "cell_type": "code",
   "execution_count": 46,
   "metadata": {},
   "outputs": [
    {
     "data": {
      "text/plain": [
       "3     12223\n",
       "5      8177\n",
       "2      7888\n",
       "1      7373\n",
       "6      6575\n",
       "4      6462\n",
       "13      215\n",
       "14      190\n",
       "19      131\n",
       "20      124\n",
       "12      117\n",
       "11       99\n",
       "21       86\n",
       "17       77\n",
       "18       76\n",
       "16       65\n",
       "15       61\n",
       "10       57\n",
       "9         3\n",
       "8         1\n",
       "Name: Area ID, dtype: int64"
      ]
     },
     "execution_count": 46,
     "metadata": {},
     "output_type": "execute_result"
    }
   ],
   "source": [
    "crime_data['Area ID'].value_counts().head(20)"
   ]
  },
  {
   "cell_type": "code",
   "execution_count": 107,
   "metadata": {},
   "outputs": [
    {
     "data": {
      "text/plain": [
       "363    1019\n",
       "645     680\n",
       "646     640\n",
       "636     640\n",
       "397     534\n",
       "162     483\n",
       "111     459\n",
       "563     451\n",
       "362     447\n",
       "392     440\n",
       "395     437\n",
       "152     414\n",
       "358     412\n",
       "393     401\n",
       "361     397\n",
       "237     397\n",
       "245     383\n",
       "585     377\n",
       "666     371\n",
       "246     370\n",
       "Name: Reporting District, dtype: int64"
      ]
     },
     "execution_count": 107,
     "metadata": {},
     "output_type": "execute_result"
    }
   ],
   "source": [
    "crime_data['Reporting District'].value_counts().head(20)"
   ]
  },
  {
   "cell_type": "code",
   "execution_count": 80,
   "metadata": {},
   "outputs": [
    {
     "data": {
      "text/plain": [
       "DR Number                   int64\n",
       "Date Reported              object\n",
       "Date Occurred              object\n",
       "Time Occurred               int64\n",
       "Area ID                     int64\n",
       "Area Name                  object\n",
       "Reporting District          int64\n",
       "Crime Code                  int64\n",
       "Crime Code Description     object\n",
       "MO Codes                   object\n",
       "Victim Age                float64\n",
       "Victim Sex                 object\n",
       "Victim Descent             object\n",
       "Premise Code              float64\n",
       "Premise Description        object\n",
       "Weapon Used Code          float64\n",
       "Weapon Description         object\n",
       "Status Code                object\n",
       "Status Description         object\n",
       "Crime Code 1              float64\n",
       "Crime Code 2              float64\n",
       "Crime Code 3              float64\n",
       "Crime Code 4              float64\n",
       "Address                    object\n",
       "Cross Street               object\n",
       "Location                   object\n",
       "Day Occurred                int64\n",
       "Month Occurred              int64\n",
       "Year Occurred               int64\n",
       "dtype: object"
      ]
     },
     "execution_count": 80,
     "metadata": {},
     "output_type": "execute_result"
    }
   ],
   "source": [
    "crime_data.dtypes"
   ]
  },
  {
   "cell_type": "code",
   "execution_count": 108,
   "metadata": {},
   "outputs": [
    {
     "data": {
      "text/plain": [
       "DR Number                   int64\n",
       "Date Reported              object\n",
       "Date Occurred              object\n",
       "Time Occurred               int64\n",
       "Area ID                     int64\n",
       "Area Name                  object\n",
       "Reporting District          int64\n",
       "Crime Code                  int64\n",
       "Crime Code Description     object\n",
       "MO Codes                   object\n",
       "Victim Age                float64\n",
       "Victim Sex                 object\n",
       "Victim Descent             object\n",
       "Premise Code              float64\n",
       "Premise Description        object\n",
       "Weapon Used Code          float64\n",
       "Weapon Description         object\n",
       "Status Code                object\n",
       "Status Description         object\n",
       "Crime Code 1              float64\n",
       "Crime Code 2              float64\n",
       "Crime Code 3              float64\n",
       "Crime Code 4              float64\n",
       "Address                    object\n",
       "Cross Street               object\n",
       "Location                   object\n",
       "Day Occurred                int64\n",
       "Month Occurred              int64\n",
       "Year Occurred               int64\n",
       "dtype: object"
      ]
     },
     "execution_count": 108,
     "metadata": {},
     "output_type": "execute_result"
    }
   ],
   "source": [
    "crime_data.dtypes"
   ]
  },
  {
   "cell_type": "code",
   "execution_count": 123,
   "metadata": {},
   "outputs": [
    {
     "data": {
      "text/plain": [
       "(50000, 2039)"
      ]
     },
     "execution_count": 123,
     "metadata": {},
     "output_type": "execute_result"
    }
   ],
   "source": [
    "feature_cols = ['Area ID',\n",
    "                'Day Occurred',\n",
    "                'Month Occurred',\n",
    "                'Year Occurred',\n",
    "                'Time Occurred',\n",
    "                'Reporting District',\n",
    "                'Victim Age',\n",
    "                'Victim Sex',\n",
    "                'Victim Descent',\n",
    "                'Premise Code',\n",
    "                'Weapon Used Code',\n",
    "                'Status Code']\n",
    "X = crime_data[feature_cols]\n",
    "X = one_hot(X,feature_cols)\n",
    "X = X.drop(feature_cols,axis=1)\n",
    "X.shape"
   ]
  },
  {
   "cell_type": "code",
   "execution_count": 124,
   "metadata": {},
   "outputs": [
    {
     "data": {
      "text/plain": [
       "Area ID_1                 uint8\n",
       "Area ID_2                 uint8\n",
       "Area ID_3                 uint8\n",
       "Area ID_4                 uint8\n",
       "Area ID_5                 uint8\n",
       "Area ID_6                 uint8\n",
       "Area ID_8                 uint8\n",
       "Area ID_9                 uint8\n",
       "Area ID_10                uint8\n",
       "Area ID_11                uint8\n",
       "Area ID_12                uint8\n",
       "Area ID_13                uint8\n",
       "Area ID_14                uint8\n",
       "Area ID_15                uint8\n",
       "Area ID_16                uint8\n",
       "Area ID_17                uint8\n",
       "Area ID_18                uint8\n",
       "Area ID_19                uint8\n",
       "Area ID_20                uint8\n",
       "Area ID_21                uint8\n",
       "Day Occurred_1            uint8\n",
       "Day Occurred_2            uint8\n",
       "Day Occurred_3            uint8\n",
       "Day Occurred_4            uint8\n",
       "Day Occurred_5            uint8\n",
       "Day Occurred_6            uint8\n",
       "Day Occurred_7            uint8\n",
       "Month Occurred_1          uint8\n",
       "Month Occurred_2          uint8\n",
       "Month Occurred_3          uint8\n",
       "                          ...  \n",
       "Weapon Used Code_304.0    uint8\n",
       "Weapon Used Code_305.0    uint8\n",
       "Weapon Used Code_306.0    uint8\n",
       "Weapon Used Code_307.0    uint8\n",
       "Weapon Used Code_308.0    uint8\n",
       "Weapon Used Code_309.0    uint8\n",
       "Weapon Used Code_310.0    uint8\n",
       "Weapon Used Code_311.0    uint8\n",
       "Weapon Used Code_312.0    uint8\n",
       "Weapon Used Code_400.0    uint8\n",
       "Weapon Used Code_500.0    uint8\n",
       "Weapon Used Code_501.0    uint8\n",
       "Weapon Used Code_503.0    uint8\n",
       "Weapon Used Code_504.0    uint8\n",
       "Weapon Used Code_505.0    uint8\n",
       "Weapon Used Code_506.0    uint8\n",
       "Weapon Used Code_507.0    uint8\n",
       "Weapon Used Code_508.0    uint8\n",
       "Weapon Used Code_509.0    uint8\n",
       "Weapon Used Code_510.0    uint8\n",
       "Weapon Used Code_511.0    uint8\n",
       "Weapon Used Code_512.0    uint8\n",
       "Weapon Used Code_513.0    uint8\n",
       "Weapon Used Code_514.0    uint8\n",
       "Weapon Used Code_515.0    uint8\n",
       "Status Code_AA            uint8\n",
       "Status Code_AO            uint8\n",
       "Status Code_IC            uint8\n",
       "Status Code_JA            uint8\n",
       "Status Code_JO            uint8\n",
       "Length: 2039, dtype: object"
      ]
     },
     "execution_count": 124,
     "metadata": {},
     "output_type": "execute_result"
    }
   ],
   "source": [
    "X.dtypes"
   ]
  },
  {
   "cell_type": "code",
   "execution_count": 125,
   "metadata": {
    "collapsed": true
   },
   "outputs": [],
   "source": [
    "y = crime_data['Crime Code']"
   ]
  },
  {
   "cell_type": "code",
   "execution_count": 126,
   "metadata": {
    "collapsed": true
   },
   "outputs": [],
   "source": [
    "X_train, X_test, y_train, y_test = train_test_split(X, y, test_size=0.3, random_state=2)"
   ]
  },
  {
   "cell_type": "code",
   "execution_count": 139,
   "metadata": {
    "collapsed": true
   },
   "outputs": [],
   "source": [
    "knn = KNeighborsClassifier(n_neighbors=501) "
   ]
  },
  {
   "cell_type": "code",
   "execution_count": 140,
   "metadata": {},
   "outputs": [
    {
     "data": {
      "text/plain": [
       "KNeighborsClassifier(algorithm='auto', leaf_size=30, metric='minkowski',\n",
       "           metric_params=None, n_jobs=1, n_neighbors=501, p=2,\n",
       "           weights='uniform')"
      ]
     },
     "execution_count": 140,
     "metadata": {},
     "output_type": "execute_result"
    }
   ],
   "source": [
    "knn.fit(X_train,y_train)"
   ]
  },
  {
   "cell_type": "code",
   "execution_count": 141,
   "metadata": {
    "collapsed": true
   },
   "outputs": [],
   "source": [
    "predict_y = knn.predict(X_test)\n",
    "score = accuracy_score(y_test, predict_y)"
   ]
  },
  {
   "cell_type": "code",
   "execution_count": 142,
   "metadata": {},
   "outputs": [
    {
     "name": "stdout",
     "output_type": "stream",
     "text": [
      "Accracy score 37.80\n"
     ]
    }
   ],
   "source": [
    "print('Accracy score {0:.2f}'.format(score*100))"
   ]
  },
  {
   "cell_type": "code",
   "execution_count": null,
   "metadata": {
    "collapsed": true
   },
   "outputs": [],
   "source": []
  }
 ],
 "metadata": {
  "kernelspec": {
   "display_name": "Python 3",
   "language": "python",
   "name": "python3"
  },
  "language_info": {
   "codemirror_mode": {
    "name": "ipython",
    "version": 3
   },
   "file_extension": ".py",
   "mimetype": "text/x-python",
   "name": "python",
   "nbconvert_exporter": "python",
   "pygments_lexer": "ipython3",
   "version": "3.6.1"
  }
 },
 "nbformat": 4,
 "nbformat_minor": 2
}
